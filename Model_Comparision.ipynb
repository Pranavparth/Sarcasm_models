{
 "cells": [
  {
   "cell_type": "markdown",
   "id": "67b373db",
   "metadata": {},
   "source": [
    "### A Comparative Study of Transformer Models for Sarcasm Detection\n",
    "#### Pranav Parthasarathy\n",
    "\n",
    "School of Engineering and Applied Sciences\n",
    "\n",
    "George Washington University"
   ]
  },
  {
   "cell_type": "markdown",
   "id": "5ee1206f",
   "metadata": {},
   "source": [
    "Importing necessary libraries"
   ]
  },
  {
   "cell_type": "code",
   "execution_count": 2,
   "id": "1ccefea4",
   "metadata": {},
   "outputs": [],
   "source": [
    "import pandas as pd\n",
    "from transformers import AutoTokenizer, AutoModelForSequenceClassification, Trainer, TrainingArguments\n",
    "from datasets import Dataset\n",
    "from sklearn.model_selection import train_test_split\n",
    "from transformers import AutoTokenizer, AutoModelForSequenceClassification\n",
    "from transformers import TrainingArguments, Trainer\n",
    "import numpy as np\n",
    "from sklearn.metrics import accuracy_score, precision_score, recall_score, f1_score\n",
    "import pickle\n",
    "from transformers import ElectraForSequenceClassification\n",
    "from sklearn.metrics import classification_report, confusion_matrix, accuracy_score, precision_score, recall_score, f1_score\n",
    "import matplotlib.pyplot as plt\n",
    "import seaborn as sns\n",
    "import numpy as np\n",
    "import json\n",
    "from transformers import Trainer\n",
    "\n",
    "import warnings\n",
    "warnings.filterwarnings(\"ignore\")\n"
   ]
  },
  {
   "cell_type": "markdown",
   "id": "80858d71",
   "metadata": {},
   "source": [
    "Loading JSON Dataset"
   ]
  },
  {
   "cell_type": "code",
   "execution_count": 3,
   "id": "f75edd1a",
   "metadata": {},
   "outputs": [
    {
     "name": "stdout",
     "output_type": "stream",
     "text": [
      "                                        article_link  \\\n",
      "0  https://www.huffingtonpost.com/entry/versace-b...   \n",
      "1  https://www.huffingtonpost.com/entry/roseanne-...   \n",
      "2  https://local.theonion.com/mom-starting-to-fea...   \n",
      "3  https://politics.theonion.com/boehner-just-wan...   \n",
      "4  https://www.huffingtonpost.com/entry/jk-rowlin...   \n",
      "\n",
      "                                            headline  is_sarcastic  \n",
      "0  former versace store clerk sues over secret 'b...             0  \n",
      "1  the 'roseanne' revival catches up to our thorn...             0  \n",
      "2  mom starting to fear son's web series closest ...             1  \n",
      "3  boehner just wants wife to listen, not come up...             1  \n",
      "4  j.k. rowling wishes snape happy birthday in th...             0  \n"
     ]
    }
   ],
   "source": [
    "# Load your JSON dataset\n",
    "file_path = \"Sarcasm_Headlines_Dataset.json\"\n",
    "df = pd.read_json(file_path,lines=True)\n",
    "\n",
    "# Check if the data loaded correctly\n",
    "print(df.head())\n"
   ]
  },
  {
   "cell_type": "markdown",
   "id": "2204d963",
   "metadata": {},
   "source": [
    "Splitting Data into Training and Testing Sets"
   ]
  },
  {
   "cell_type": "code",
   "execution_count": 4,
   "id": "ca3904bd",
   "metadata": {},
   "outputs": [],
   "source": [
    "train_df, test_df = train_test_split(df, test_size=0.2, random_state=42)"
   ]
  },
  {
   "cell_type": "markdown",
   "id": "13f423f2",
   "metadata": {},
   "source": [
    "Renaming Columns and Dropping Unnecessary Columns"
   ]
  },
  {
   "cell_type": "code",
   "execution_count": 5,
   "id": "a0752256",
   "metadata": {},
   "outputs": [],
   "source": [
    "train_df = train_df.rename(columns={\"is_sarcastic\": \"label\", \"headline\": \"text\"})\n",
    "test_df = test_df.rename(columns={\"is_sarcastic\": \"label\", \"headline\": \"text\"})"
   ]
  },
  {
   "cell_type": "code",
   "execution_count": 6,
   "id": "a5fd7765",
   "metadata": {},
   "outputs": [],
   "source": [
    "train_df.drop(columns=[\"article_link\"], inplace=True)"
   ]
  },
  {
   "cell_type": "markdown",
   "id": "fd50a65a",
   "metadata": {},
   "source": [
    "Creating Dataset Objects"
   ]
  },
  {
   "cell_type": "code",
   "execution_count": 7,
   "id": "769725cc",
   "metadata": {},
   "outputs": [],
   "source": [
    "train_ds = Dataset.from_pandas(train_df)\n",
    "test_ds = Dataset.from_pandas(test_df)"
   ]
  },
  {
   "cell_type": "markdown",
   "id": "cae5e9e7",
   "metadata": {},
   "source": [
    "### MiniLM"
   ]
  },
  {
   "cell_type": "markdown",
   "id": "f3decb76",
   "metadata": {},
   "source": [
    "Loading Tokenizer and Model"
   ]
  },
  {
   "cell_type": "code",
   "execution_count": 8,
   "id": "fa476c59",
   "metadata": {},
   "outputs": [
    {
     "name": "stderr",
     "output_type": "stream",
     "text": [
      "Some weights of BertForSequenceClassification were not initialized from the model checkpoint at microsoft/MiniLM-L12-H384-uncased and are newly initialized: ['classifier.bias', 'classifier.weight']\n",
      "You should probably TRAIN this model on a down-stream task to be able to use it for predictions and inference.\n"
     ]
    }
   ],
   "source": [
    "#Load tokenizer and model\n",
    "model_name = \"microsoft/MiniLM-L12-H384-uncased\"\n",
    "tokenizer = AutoTokenizer.from_pretrained(model_name)\n",
    "model = AutoModelForSequenceClassification.from_pretrained(model_name, num_labels=2)"
   ]
  },
  {
   "cell_type": "markdown",
   "id": "fc01dfbd",
   "metadata": {},
   "source": [
    "Defining Tokenization Function and Tokenizing data"
   ]
  },
  {
   "cell_type": "code",
   "execution_count": null,
   "id": "de124a84",
   "metadata": {},
   "outputs": [
    {
     "data": {
      "application/vnd.jupyter.widget-view+json": {
       "model_id": "9590b2f7962e4b17a4e1d7af647aa595",
       "version_major": 2,
       "version_minor": 0
      },
      "text/plain": [
       "Map:   0%|          | 0/21367 [00:00<?, ? examples/s]"
      ]
     },
     "metadata": {},
     "output_type": "display_data"
    },
    {
     "name": "stderr",
     "output_type": "stream",
     "text": [
      "Asking to truncate to max_length but no maximum length is provided and the model has no predefined maximum length. Default to no truncation.\n"
     ]
    },
    {
     "data": {
      "application/vnd.jupyter.widget-view+json": {
       "model_id": "199e5732fd874ade87cc214407f27d17",
       "version_major": 2,
       "version_minor": 0
      },
      "text/plain": [
       "Map:   0%|          | 0/5342 [00:00<?, ? examples/s]"
      ]
     },
     "metadata": {},
     "output_type": "display_data"
    }
   ],
   "source": [
    "#Tokenize\n",
    "def tokenize(batch):\n",
    "    \"\"\" Tokenizes the input text using the specified tokenizer.\n",
    "    Args:\n",
    "        batch (dict): A dictionary containing the input text.\n",
    "    Returns:\n",
    "        dict: A dictionary containing the tokenized input text.\n",
    "    \"\"\"\n",
    "    return tokenizer(batch[\"text\"], padding=True, truncation=True)\n",
    "\n",
    "train_ds = train_ds.map(tokenize, batched=True)\n",
    "test_ds = test_ds.map(tokenize, batched=True)"
   ]
  },
  {
   "cell_type": "markdown",
   "id": "505f288c",
   "metadata": {},
   "source": [
    "Removing Unnecessary Columns and Converting to Torch Format"
   ]
  },
  {
   "cell_type": "code",
   "execution_count": 10,
   "id": "3b05a85b",
   "metadata": {},
   "outputs": [],
   "source": [
    "train_ds = train_ds.remove_columns([\"text\", \"__index_level_0__\"])\n",
    "test_ds = test_ds.remove_columns([\"text\", \"__index_level_0__\"])\n",
    "\n",
    "train_ds.set_format(\"torch\")\n",
    "test_ds.set_format(\"torch\")"
   ]
  },
  {
   "cell_type": "markdown",
   "id": "f628bf0b",
   "metadata": {},
   "source": [
    "Defining Function to Load the pre-trained MiniLM Model"
   ]
  },
  {
   "cell_type": "code",
   "execution_count": null,
   "id": "e1d49a0d",
   "metadata": {},
   "outputs": [
    {
     "name": "stdout",
     "output_type": "stream",
     "text": [
      "Model and tokenizer successfully loaded from .pkl file\n"
     ]
    }
   ],
   "source": [
    "# Load the pre-trained model\n",
    "def load_model_from_pkl(filename=\"MiniLM.pkl\"):\n",
    "    \"\"\" Loads a pre-trained model and tokenizer from a .pkl file.\n",
    "    Args:\n",
    "        filename (str): The name of the .pkl file to load.\n",
    "    Returns:\n",
    "        model: The loaded model.\n",
    "        tokenizer: The loaded tokenizer.\n",
    "    \"\"\"\n",
    "    # Load the saved object\n",
    "    with open(filename, \"rb\") as f:\n",
    "        saved_data = pickle.load(f)\n",
    "    \n",
    "    # Reconstruct the tokenizer\n",
    "    tokenizer = saved_data[\"tokenizer\"]\n",
    "\n",
    "    # Reconstruct the model using the saved configuration and load the state dict\n",
    "    model = AutoModelForSequenceClassification.from_config(saved_data[\"model_config\"])\n",
    "    model.load_state_dict(saved_data[\"model_state_dict\"])\n",
    "    \n",
    "    print(\"Model and tokenizer successfully loaded from .pkl file\")\n",
    "    return model, tokenizer\n",
    "\n",
    "\n",
    "model, tokenizer = load_model_from_pkl(\"MiniLM.pkl\")"
   ]
  },
  {
   "cell_type": "markdown",
   "id": "f56ce721",
   "metadata": {},
   "source": [
    "Loading Model and Tokenizer from Pickle File"
   ]
  },
  {
   "cell_type": "code",
   "execution_count": 31,
   "id": "3a9a796d",
   "metadata": {},
   "outputs": [
    {
     "name": "stdout",
     "output_type": "stream",
     "text": [
      "Model and tokenizer successfully loaded from .pkl file\n"
     ]
    },
    {
     "data": {
      "application/vnd.jupyter.widget-view+json": {
       "model_id": "d1ed9edc208b4aaa8aa9c0e2822d8a49",
       "version_major": 2,
       "version_minor": 0
      },
      "text/plain": [
       "  0%|          | 0/668 [00:00<?, ?it/s]"
      ]
     },
     "metadata": {},
     "output_type": "display_data"
    },
    {
     "name": "stdout",
     "output_type": "stream",
     "text": [
      "Evaluation Results: {'eval_loss': 0.31919485330581665, 'eval_model_preparation_time': 0.0, 'eval_runtime': 69.3113, 'eval_samples_per_second': 77.073, 'eval_steps_per_second': 9.638}\n"
     ]
    },
    {
     "data": {
      "application/vnd.jupyter.widget-view+json": {
       "model_id": "1a2622502a3c46beb3287c2d420bdc69",
       "version_major": 2,
       "version_minor": 0
      },
      "text/plain": [
       "  0%|          | 0/668 [00:00<?, ?it/s]"
      ]
     },
     "metadata": {},
     "output_type": "display_data"
    },
    {
     "name": "stdout",
     "output_type": "stream",
     "text": [
      "Predicted labels: [1 0 0 ... 1 1 1]\n"
     ]
    }
   ],
   "source": [
    "# Load model and tokenizer\n",
    "model_loaded, tokenizer_loaded = load_model_from_pkl(\"MiniLM.pkl\")\n",
    "\n",
    "# Create a Trainer object for evaluation or prediction\n",
    "trainer_loaded = Trainer(\n",
    "    model=model_loaded,\n",
    "    tokenizer=tokenizer_loaded\n",
    ")\n",
    "\n",
    "# Evaluate the model on the test dataset\n",
    "eval_results = trainer_loaded.evaluate(eval_dataset=test_ds)\n",
    "print(\"Evaluation Results:\", eval_results)\n",
    "\n",
    "# Predict using the model\n",
    "predictions = trainer_loaded.predict(test_ds)\n",
    "\n",
    "# You can get prediction labels like this:\n",
    "predicted_labels = predictions.predictions.argmax(axis=-1)\n",
    "print(\"Predicted labels:\", predicted_labels)"
   ]
  },
  {
   "cell_type": "markdown",
   "id": "527f942f",
   "metadata": {},
   "source": [
    "Creating Trainer Object, Evaluating and Making Predictions"
   ]
  },
  {
   "cell_type": "code",
   "execution_count": 32,
   "id": "cd4b1561",
   "metadata": {},
   "outputs": [
    {
     "data": {
      "application/vnd.jupyter.widget-view+json": {
       "model_id": "9546f3acd2c3460ba2b1be5244f8b96c",
       "version_major": 2,
       "version_minor": 0
      },
      "text/plain": [
       "  0%|          | 0/668 [00:00<?, ?it/s]"
      ]
     },
     "metadata": {},
     "output_type": "display_data"
    },
    {
     "name": "stdout",
     "output_type": "stream",
     "text": [
      "Classification Report:\n",
      "\n",
      "               precision    recall  f1-score   support\n",
      "\n",
      "Not Sarcastic       0.94      0.96      0.95      2996\n",
      "    Sarcastic       0.94      0.92      0.93      2346\n",
      "\n",
      "     accuracy                           0.94      5342\n",
      "    macro avg       0.94      0.94      0.94      5342\n",
      " weighted avg       0.94      0.94      0.94      5342\n",
      "\n"
     ]
    },
    {
     "data": {
      "image/png": "[encoded data removed]",
      "text/plain": [
       "<Figure size 600x500 with 2 Axes>"
      ]
     },
     "metadata": {},
     "output_type": "display_data"
    }
   ],
   "source": [
    "\n",
    "# Create a Trainer using the loaded model\n",
    "trainer_loaded = Trainer(\n",
    "    model=model_loaded,\n",
    "    tokenizer=tokenizer_loaded\n",
    ")\n",
    "\n",
    "# Get predictions\n",
    "predictions = trainer_loaded.predict(test_ds)\n",
    "y_true = predictions.label_ids\n",
    "y_pred = np.argmax(predictions.predictions, axis=1)\n",
    "\n",
    "# Save and display metrics\n",
    "print(\"Classification Report:\\n\")\n",
    "print(classification_report(y_true, y_pred, target_names=[\"Not Sarcastic\", \"Sarcastic\"]))\n",
    "\n",
    "# Confusion Matrix\n",
    "cm = confusion_matrix(y_true, y_pred)\n",
    "plt.figure(figsize=(6,5))\n",
    "sns.heatmap(cm, annot=True, fmt='d', cmap='Blues', xticklabels=[\"Not Sarcastic\", \"Sarcastic\"], yticklabels=[\"Not Sarcastic\", \"Sarcastic\"])\n",
    "plt.title(\"Confusion Matrix - MiniLM Model\")\n",
    "plt.ylabel('True Label')\n",
    "plt.xlabel('Predicted Label')\n",
    "plt.show()\n",
    "\n",
    "# Save metrics dictionary\n",
    "metrics_dict = {\n",
    "    \"Model\": \"MiniLM Model\",\n",
    "    \"Accuracy\": accuracy_score(y_true, y_pred),\n",
    "    \"Precision\": precision_score(y_true, y_pred),\n",
    "    \"Recall\": recall_score(y_true, y_pred),\n",
    "    \"F1-Score\": f1_score(y_true, y_pred)\n",
    "}"
   ]
  },
  {
   "cell_type": "markdown",
   "id": "0bf5b333",
   "metadata": {},
   "source": [
    "### Electra"
   ]
  },
  {
   "cell_type": "markdown",
   "id": "9d367ef5",
   "metadata": {},
   "source": [
    "Loading Electra Model and Tokenizer"
   ]
  },
  {
   "cell_type": "code",
   "execution_count": 14,
   "id": "3bee2c79",
   "metadata": {},
   "outputs": [
    {
     "name": "stderr",
     "output_type": "stream",
     "text": [
      "Some weights of ElectraForSequenceClassification were not initialized from the model checkpoint at google/electra-small-discriminator and are newly initialized: ['classifier.dense.bias', 'classifier.dense.weight', 'classifier.out_proj.bias', 'classifier.out_proj.weight']\n",
      "You should probably TRAIN this model on a down-stream task to be able to use it for predictions and inference.\n"
     ]
    }
   ],
   "source": [
    "# Load the dataset into a Hugging Face Dataset object\n",
    "\n",
    "model_name = \"google/electra-small-discriminator\"\n",
    "tokenizer = AutoTokenizer.from_pretrained(model_name)\n",
    "model = AutoModelForSequenceClassification.from_pretrained(model_name, num_labels=2)"
   ]
  },
  {
   "cell_type": "code",
   "execution_count": 15,
   "id": "c9544873",
   "metadata": {},
   "outputs": [],
   "source": [
    "train_ds = Dataset.from_pandas(train_df)\n",
    "test_ds = Dataset.from_pandas(test_df)"
   ]
  },
  {
   "cell_type": "markdown",
   "id": "0d1b05e3",
   "metadata": {},
   "source": [
    "Defining Tokenization Function and Tokenizing data"
   ]
  },
  {
   "cell_type": "code",
   "execution_count": null,
   "id": "fc986ea5",
   "metadata": {},
   "outputs": [
    {
     "data": {
      "application/vnd.jupyter.widget-view+json": {
       "model_id": "fa3f346d56b0473581809eb6d60afe12",
       "version_major": 2,
       "version_minor": 0
      },
      "text/plain": [
       "Map:   0%|          | 0/21367 [00:00<?, ? examples/s]"
      ]
     },
     "metadata": {},
     "output_type": "display_data"
    },
    {
     "data": {
      "application/vnd.jupyter.widget-view+json": {
       "model_id": "8c3574d4520c4606b829e42d14de78c9",
       "version_major": 2,
       "version_minor": 0
      },
      "text/plain": [
       "Map:   0%|          | 0/5342 [00:00<?, ? examples/s]"
      ]
     },
     "metadata": {},
     "output_type": "display_data"
    }
   ],
   "source": [
    "def tokenize_function(example):\n",
    "    \"\"\"Tokenizes the input text.\n",
    "    Args:\n",
    "        example (dict): A dictionary containing the text to be tokenized.\n",
    "    Returns:\n",
    "        dict: A dictionary containing the tokenized text.\n",
    "    \"\"\"\n",
    "    return tokenizer(example[\"text\"], padding=\"max_length\", truncation=True)\n",
    "\n",
    "train_ds = train_ds.map(tokenize_function, batched=True)\n",
    "test_ds = test_ds.map(tokenize_function, batched=True)"
   ]
  },
  {
   "cell_type": "markdown",
   "id": "826606b6",
   "metadata": {},
   "source": [
    "Loading the saved trained electra model"
   ]
  },
  {
   "cell_type": "code",
   "execution_count": 17,
   "id": "24178052",
   "metadata": {},
   "outputs": [
    {
     "name": "stdout",
     "output_type": "stream",
     "text": [
      "Model and Tokenizer successfully loaded from electra_model.pkl\n"
     ]
    }
   ],
   "source": [
    "\n",
    "def load_model_from_pkl(filename=\"electra_model.pkl\"):\n",
    "    \"\"\"\n",
    "    Load a model and tokenizer from a .pkl file (saved using save_model_as_pkl).\n",
    "    \n",
    "    Args:\n",
    "        filename (str): Path to the pickle file.\n",
    "        \n",
    "    Returns:\n",
    "        model: Loaded model ready for inference or evaluation.\n",
    "        tokenizer: Loaded tokenizer ready for text preprocessing.\n",
    "    \"\"\"\n",
    "    # Load the saved pickle file\n",
    "    with open(filename, \"rb\") as f:\n",
    "        saved_data = pickle.load(f)\n",
    "\n",
    "    # Reconstruct the model (careful: instantiate from config manually)\n",
    "    model = ElectraForSequenceClassification(saved_data['model_config'])\n",
    "    model.load_state_dict(saved_data['model_state_dict'])\n",
    "\n",
    "    # Load the tokenizer\n",
    "    tokenizer = saved_data['tokenizer']\n",
    "\n",
    "    print(f\"Model and Tokenizer successfully loaded from {filename}\")\n",
    "    return model, tokenizer\n",
    "\n",
    "model_loaded, tokenizer_loaded = load_model_from_pkl(\"electra_model.pkl\")\n"
   ]
  },
  {
   "cell_type": "code",
   "execution_count": 18,
   "id": "1f1a0b99",
   "metadata": {},
   "outputs": [
    {
     "data": {
      "application/vnd.jupyter.widget-view+json": {
       "model_id": "255f0af59b7e4f0ba6ef4530a52dac8c",
       "version_major": 2,
       "version_minor": 0
      },
      "text/plain": [
       "  0%|          | 0/668 [00:00<?, ?it/s]"
      ]
     },
     "metadata": {},
     "output_type": "display_data"
    },
    {
     "name": "stdout",
     "output_type": "stream",
     "text": [
      "{'eval_loss': 0.6967154741287231, 'eval_model_preparation_time': 0.0056, 'eval_runtime': 36.2414, 'eval_samples_per_second': 147.4, 'eval_steps_per_second': 18.432}\n"
     ]
    },
    {
     "data": {
      "application/vnd.jupyter.widget-view+json": {
       "model_id": "1aa67dc9c640424ca0524309c1d414c0",
       "version_major": 2,
       "version_minor": 0
      },
      "text/plain": [
       "  0%|          | 0/668 [00:00<?, ?it/s]"
      ]
     },
     "metadata": {},
     "output_type": "display_data"
    }
   ],
   "source": [
    "# Create a Trainer object if you want to evaluate or predict\n",
    "trainer_loaded = Trainer(\n",
    "    model=model_loaded,\n",
    "    tokenizer=tokenizer_loaded\n",
    ")\n",
    "\n",
    "# Evaluate\n",
    "results = trainer_loaded.evaluate(test_ds)\n",
    "print(results)\n",
    "\n",
    "# Predict (optional)\n",
    "predictions = trainer_loaded.predict(test_ds)"
   ]
  },
  {
   "cell_type": "markdown",
   "id": "0d99752a",
   "metadata": {},
   "source": [
    "Creating Trainer Object, Evaluating and Making Predictions"
   ]
  },
  {
   "cell_type": "code",
   "execution_count": 19,
   "id": "0f69af0a",
   "metadata": {},
   "outputs": [
    {
     "data": {
      "application/vnd.jupyter.widget-view+json": {
       "model_id": "ae2b6f1f655e4b0386d6c7ba110ddf1e",
       "version_major": 2,
       "version_minor": 0
      },
      "text/plain": [
       "  0%|          | 0/668 [00:00<?, ?it/s]"
      ]
     },
     "metadata": {},
     "output_type": "display_data"
    },
    {
     "name": "stdout",
     "output_type": "stream",
     "text": [
      "Classification Report:\n",
      "\n",
      "               precision    recall  f1-score   support\n",
      "\n",
      "Not Sarcastic       0.91      0.95      0.93      2996\n",
      "    Sarcastic       0.94      0.89      0.91      2346\n",
      "\n",
      "     accuracy                           0.92      5342\n",
      "    macro avg       0.93      0.92      0.92      5342\n",
      " weighted avg       0.92      0.92      0.92      5342\n",
      "\n"
     ]
    },
    {
     "data": {
      "image/png": "[encoded data removed]",
      "text/plain": [
       "<Figure size 600x500 with 2 Axes>"
      ]
     },
     "metadata": {},
     "output_type": "display_data"
    }
   ],
   "source": [
    "# Create a Trainer using the loaded model\n",
    "trainer_loaded = Trainer(\n",
    "    model=model_loaded,\n",
    "    tokenizer=tokenizer_loaded\n",
    ")\n",
    "\n",
    "# Get predictions\n",
    "predictions = trainer_loaded.predict(test_ds)\n",
    "y_true = predictions.label_ids\n",
    "y_pred = np.argmax(predictions.predictions, axis=1)\n",
    "\n",
    "# Save and display metrics\n",
    "print(\"Classification Report:\\n\")\n",
    "print(classification_report(y_true, y_pred, target_names=[\"Not Sarcastic\", \"Sarcastic\"]))\n",
    "\n",
    "# Confusion Matrix\n",
    "cm = confusion_matrix(y_true, y_pred)\n",
    "plt.figure(figsize=(6,5))\n",
    "sns.heatmap(cm, annot=True, fmt='d', cmap='Blues', xticklabels=[\"Not Sarcastic\", \"Sarcastic\"], yticklabels=[\"Not Sarcastic\", \"Sarcastic\"])\n",
    "plt.title(\"Confusion Matrix - ELECTRA Model\")\n",
    "plt.ylabel('True Label')\n",
    "plt.xlabel('Predicted Label')\n",
    "plt.show()\n",
    "\n",
    "# Save metrics dictionary\n",
    "metrics_dict = {\n",
    "    \"Model\": \"ELECTRA\",\n",
    "    \"Accuracy\": accuracy_score(y_true, y_pred),\n",
    "    \"Precision\": precision_score(y_true, y_pred),\n",
    "    \"Recall\": recall_score(y_true, y_pred),\n",
    "    \"F1-Score\": f1_score(y_true, y_pred)\n",
    "}"
   ]
  },
  {
   "cell_type": "markdown",
   "id": "43d259b7",
   "metadata": {},
   "source": [
    "### DistilBERT"
   ]
  },
  {
   "cell_type": "code",
   "execution_count": 20,
   "id": "fe38a8c1",
   "metadata": {},
   "outputs": [],
   "source": [
    "train_dataset = Dataset.from_pandas(train_df)\n",
    "test_dataset = Dataset.from_pandas(test_df)"
   ]
  },
  {
   "cell_type": "markdown",
   "id": "9900af59",
   "metadata": {},
   "source": [
    "Loading DistilBERT Model and Tokenizer"
   ]
  },
  {
   "cell_type": "code",
   "execution_count": 21,
   "id": "3c9517e6",
   "metadata": {},
   "outputs": [
    {
     "name": "stderr",
     "output_type": "stream",
     "text": [
      "Some weights of DistilBertForSequenceClassification were not initialized from the model checkpoint at distilbert-base-uncased and are newly initialized: ['classifier.bias', 'classifier.weight', 'pre_classifier.bias', 'pre_classifier.weight']\n",
      "You should probably TRAIN this model on a down-stream task to be able to use it for predictions and inference.\n"
     ]
    }
   ],
   "source": [
    "from transformers import DistilBertTokenizerFast, DistilBertForSequenceClassification\n",
    "model_name = \"distilbert-base-uncased\"\n",
    "tokenizer = DistilBertTokenizerFast.from_pretrained(model_name)\n",
    "model = DistilBertForSequenceClassification.from_pretrained(model_name, num_labels=2)"
   ]
  },
  {
   "cell_type": "code",
   "execution_count": null,
   "id": "4417463b",
   "metadata": {},
   "outputs": [],
   "source": [
    "def tokenize_function(examples):\n",
    "    \"\"\" Tokenizes the input text using the specified tokenizer.\n",
    "    Args:\n",
    "        examples (dict): A dictionary containing the input text.\n",
    "    Returns:\n",
    "        dict: A dictionary containing the tokenized input text.\n",
    "    \"\"\"\n",
    "    return tokenizer(examples[\"text\"], padding=\"max_length\", truncation=True)"
   ]
  },
  {
   "cell_type": "code",
   "execution_count": 23,
   "id": "0cea7b51",
   "metadata": {},
   "outputs": [
    {
     "data": {
      "application/vnd.jupyter.widget-view+json": {
       "model_id": "94438711c2ec45ec98d8f174c3aeb114",
       "version_major": 2,
       "version_minor": 0
      },
      "text/plain": [
       "Map:   0%|          | 0/21367 [00:00<?, ? examples/s]"
      ]
     },
     "metadata": {},
     "output_type": "display_data"
    },
    {
     "data": {
      "application/vnd.jupyter.widget-view+json": {
       "model_id": "d47cb5340957435ea5d9a2666fcc7a90",
       "version_major": 2,
       "version_minor": 0
      },
      "text/plain": [
       "Map:   0%|          | 0/5342 [00:00<?, ? examples/s]"
      ]
     },
     "metadata": {},
     "output_type": "display_data"
    }
   ],
   "source": [
    "train_dataset = train_dataset.map(tokenize_function, batched=True)\n",
    "test_dataset = test_dataset.map(tokenize_function, batched=True)"
   ]
  },
  {
   "cell_type": "code",
   "execution_count": 24,
   "id": "d1b196c7",
   "metadata": {},
   "outputs": [],
   "source": [
    "train_dataset = train_dataset.remove_columns([\"text\", \"__index_level_0__\"])\n",
    "test_dataset = test_dataset.remove_columns([\"text\", \"__index_level_0__\"])"
   ]
  },
  {
   "cell_type": "code",
   "execution_count": 25,
   "id": "c0d7d979",
   "metadata": {},
   "outputs": [],
   "source": [
    "train_dataset.set_format(\"torch\")\n",
    "test_dataset.set_format(\"torch\")"
   ]
  },
  {
   "cell_type": "markdown",
   "id": "b88eefd9",
   "metadata": {},
   "source": [
    "Defining Function to Load the pre-trained DistilBERT Model"
   ]
  },
  {
   "cell_type": "code",
   "execution_count": null,
   "id": "51612044",
   "metadata": {},
   "outputs": [
    {
     "data": {
      "application/vnd.jupyter.widget-view+json": {
       "model_id": "bfa11f6046cc4472a90aad8520bece83",
       "version_major": 2,
       "version_minor": 0
      },
      "text/plain": [
       "  0%|          | 0/668 [00:00<?, ?it/s]"
      ]
     },
     "metadata": {},
     "output_type": "display_data"
    },
    {
     "name": "stdout",
     "output_type": "stream",
     "text": [
      "Evaluation Results: {'eval_loss': 0.31260567903518677, 'eval_model_preparation_time': 0.0013, 'eval_runtime': 82.9428, 'eval_samples_per_second': 64.406, 'eval_steps_per_second': 8.054}\n"
     ]
    },
    {
     "data": {
      "application/vnd.jupyter.widget-view+json": {
       "model_id": "237e1f3637b247b0a7387240c5697686",
       "version_major": 2,
       "version_minor": 0
      },
      "text/plain": [
       "  0%|          | 0/668 [00:00<?, ?it/s]"
      ]
     },
     "metadata": {},
     "output_type": "display_data"
    },
    {
     "name": "stdout",
     "output_type": "stream",
     "text": [
      "Predicted labels: [1 0 0 ... 0 1 1]\n"
     ]
    }
   ],
   "source": [
    "# Save the model and tokenizer to a .pkl file\n",
    "def load_model_from_pkl(filename=\"distilbert_sarcasm_model.pkl\"):\n",
    "    \"\"\" Loads a pre-trained DistilBERT model and tokenizer from a .pkl file.\n",
    "    Args:\n",
    "        filename (str): The name of the .pkl file to load.\n",
    "    Returns:\n",
    "        model: The loaded model.\n",
    "        tokenizer: The loaded tokenizer.\n",
    "    \"\"\"\n",
    "    with open(filename, \"rb\") as f:\n",
    "        save_object = pickle.load(f)\n",
    "\n",
    "    # Reconstruct the model from saved state and config\n",
    "    model = DistilBertForSequenceClassification(config=save_object[\"model_config\"])\n",
    "    model.load_state_dict(save_object[\"model_state_dict\"])\n",
    "\n",
    "    tokenizer = save_object[\"tokenizer\"]\n",
    "    return model, tokenizer\n",
    "\n",
    "# Load model and tokenizer\n",
    "model_loaded, tokenizer_loaded = load_model_from_pkl(\"distilbert_sarcasm_model.pkl\")\n",
    "\n",
    "# Create a Trainer for evaluation or prediction\n",
    "trainer_loaded = Trainer(\n",
    "    model=model_loaded,\n",
    "    tokenizer=tokenizer_loaded\n",
    ")\n",
    "\n",
    "# Evaluate the model on the test dataset\n",
    "eval_results = trainer_loaded.evaluate(eval_dataset=test_dataset)\n",
    "print(\"Evaluation Results:\", eval_results)\n",
    "\n",
    "# Predict using the model\n",
    "predictions = trainer_loaded.predict(test_dataset)\n",
    "\n",
    "# Get predicted labels\n",
    "predicted_labels = predictions.predictions.argmax(axis=-1)\n",
    "print(\"Predicted labels:\", predicted_labels)"
   ]
  },
  {
   "cell_type": "markdown",
   "id": "bdbf099b",
   "metadata": {},
   "source": [
    "Creating Trainer Object, Evaluating and Making Predictions"
   ]
  },
  {
   "cell_type": "code",
   "execution_count": 27,
   "id": "67de8410",
   "metadata": {},
   "outputs": [
    {
     "data": {
      "application/vnd.jupyter.widget-view+json": {
       "model_id": "60be7b4eb4014f26ad2796dbdd355077",
       "version_major": 2,
       "version_minor": 0
      },
      "text/plain": [
       "  0%|          | 0/668 [00:00<?, ?it/s]"
      ]
     },
     "metadata": {},
     "output_type": "display_data"
    },
    {
     "name": "stdout",
     "output_type": "stream",
     "text": [
      "Classification Report:\n",
      "\n",
      "               precision    recall  f1-score   support\n",
      "\n",
      "Not Sarcastic       0.93      0.95      0.94      2996\n",
      "    Sarcastic       0.93      0.91      0.92      2346\n",
      "\n",
      "     accuracy                           0.93      5342\n",
      "    macro avg       0.93      0.93      0.93      5342\n",
      " weighted avg       0.93      0.93      0.93      5342\n",
      "\n"
     ]
    },
    {
     "data": {
      "image/png": "[encoded data removed]",
      "text/plain": [
       "<Figure size 600x500 with 2 Axes>"
      ]
     },
     "metadata": {},
     "output_type": "display_data"
    }
   ],
   "source": [
    "# Create a Trainer using the loaded DistilBERT model\n",
    "trainer_loaded = Trainer(\n",
    "    model=model_loaded,\n",
    "    tokenizer=tokenizer_loaded\n",
    ")\n",
    "\n",
    "# Get predictions\n",
    "predictions = trainer_loaded.predict(test_dataset)\n",
    "y_true = predictions.label_ids\n",
    "y_pred = np.argmax(predictions.predictions, axis=1)\n",
    "\n",
    "# Save and display metrics\n",
    "print(\"Classification Report:\\n\")\n",
    "print(classification_report(y_true, y_pred, target_names=[\"Not Sarcastic\", \"Sarcastic\"]))\n",
    "\n",
    "# Confusion Matrix\n",
    "cm = confusion_matrix(y_true, y_pred)\n",
    "plt.figure(figsize=(6,5))\n",
    "sns.heatmap(cm, annot=True, fmt='d', cmap='Blues', xticklabels=[\"Not Sarcastic\", \"Sarcastic\"], yticklabels=[\"Not Sarcastic\", \"Sarcastic\"])\n",
    "plt.title(\"Confusion Matrix - DistilBERT Model\")\n",
    "plt.ylabel('True Label')\n",
    "plt.xlabel('Predicted Label')\n",
    "plt.show()\n",
    "\n",
    "# Save metrics dictionary\n",
    "metrics_dict = {\n",
    "    \"Model\": \"DistilBERT Model\",\n",
    "    \"Accuracy\": accuracy_score(y_true, y_pred),\n",
    "    \"Precision\": precision_score(y_true, y_pred),\n",
    "    \"Recall\": recall_score(y_true, y_pred),\n",
    "    \"F1-Score\": f1_score(y_true, y_pred)\n",
    "}"
   ]
  },
  {
   "cell_type": "code",
   "execution_count": null,
   "id": "7cac8ce0",
   "metadata": {},
   "outputs": [],
   "source": []
  }
 ],
 "metadata": {
  "kernelspec": {
   "display_name": "CUDA",
   "language": "python",
   "name": "python3"
  },
  "language_info": {
   "codemirror_mode": {
    "name": "ipython",
    "version": 3
   },
   "file_extension": ".py",
   "mimetype": "text/x-python",
   "name": "python",
   "nbconvert_exporter": "python",
   "pygments_lexer": "ipython3",
   "version": "3.9.19"
  }
 },
 "nbformat": 4,
 "nbformat_minor": 5
}
